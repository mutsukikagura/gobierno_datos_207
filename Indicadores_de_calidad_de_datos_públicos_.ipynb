{
  "nbformat": 4,
  "nbformat_minor": 0,
  "metadata": {
    "colab": {
      "provenance": []
    },
    "kernelspec": {
      "name": "python3",
      "display_name": "Python 3"
    },
    "language_info": {
      "name": "python"
    }
  },
  "cells": [
    {
      "cell_type": "code",
      "source": [
        "!pip install newsapi-python\n",
        "!pip install pandas numpy requests"
      ],
      "metadata": {
        "colab": {
          "base_uri": "https://localhost:8080/"
        },
        "id": "Al2UjDCMiXTz",
        "outputId": "cd1cd1b6-5e9d-41b5-bf50-33a878931855"
      },
      "execution_count": 2,
      "outputs": [
        {
          "output_type": "stream",
          "name": "stdout",
          "text": [
            "Collecting newsapi-python\n",
            "  Downloading newsapi_python-0.2.7-py2.py3-none-any.whl.metadata (1.2 kB)\n",
            "Requirement already satisfied: requests<3.0.0 in /usr/local/lib/python3.11/dist-packages (from newsapi-python) (2.32.3)\n",
            "Requirement already satisfied: charset-normalizer<4,>=2 in /usr/local/lib/python3.11/dist-packages (from requests<3.0.0->newsapi-python) (3.4.1)\n",
            "Requirement already satisfied: idna<4,>=2.5 in /usr/local/lib/python3.11/dist-packages (from requests<3.0.0->newsapi-python) (3.10)\n",
            "Requirement already satisfied: urllib3<3,>=1.21.1 in /usr/local/lib/python3.11/dist-packages (from requests<3.0.0->newsapi-python) (2.3.0)\n",
            "Requirement already satisfied: certifi>=2017.4.17 in /usr/local/lib/python3.11/dist-packages (from requests<3.0.0->newsapi-python) (2025.1.31)\n",
            "Downloading newsapi_python-0.2.7-py2.py3-none-any.whl (7.9 kB)\n",
            "Installing collected packages: newsapi-python\n",
            "Successfully installed newsapi-python-0.2.7\n",
            "Requirement already satisfied: pandas in /usr/local/lib/python3.11/dist-packages (2.2.2)\n",
            "Requirement already satisfied: numpy in /usr/local/lib/python3.11/dist-packages (2.0.2)\n",
            "Requirement already satisfied: requests in /usr/local/lib/python3.11/dist-packages (2.32.3)\n",
            "Requirement already satisfied: python-dateutil>=2.8.2 in /usr/local/lib/python3.11/dist-packages (from pandas) (2.8.2)\n",
            "Requirement already satisfied: pytz>=2020.1 in /usr/local/lib/python3.11/dist-packages (from pandas) (2025.2)\n",
            "Requirement already satisfied: tzdata>=2022.7 in /usr/local/lib/python3.11/dist-packages (from pandas) (2025.2)\n",
            "Requirement already satisfied: charset-normalizer<4,>=2 in /usr/local/lib/python3.11/dist-packages (from requests) (3.4.1)\n",
            "Requirement already satisfied: idna<4,>=2.5 in /usr/local/lib/python3.11/dist-packages (from requests) (3.10)\n",
            "Requirement already satisfied: urllib3<3,>=1.21.1 in /usr/local/lib/python3.11/dist-packages (from requests) (2.3.0)\n",
            "Requirement already satisfied: certifi>=2017.4.17 in /usr/local/lib/python3.11/dist-packages (from requests) (2025.1.31)\n",
            "Requirement already satisfied: six>=1.5 in /usr/local/lib/python3.11/dist-packages (from python-dateutil>=2.8.2->pandas) (1.17.0)\n"
          ]
        }
      ]
    },
    {
      "cell_type": "markdown",
      "source": [
        "# 1. Configuración de API Keys"
      ],
      "metadata": {
        "id": "PMms8cj5FIdY"
      }
    },
    {
      "cell_type": "code",
      "source": [
        "import pandas as pd\n",
        "import numpy as np\n",
        "import requests\n",
        "from datetime import datetime, timedelta\n",
        "from newsapi import NewsApiClient\n",
        "\n",
        "\n",
        "# API Key para NewsAPI (regístrate en https://newsapi.org/)\n",
        "NEWS_API_KEY = \"\"  # <-- Reemplaza aquí\n",
        "\n",
        "# API Key para OpenWeatherMap (regístrate en https://openweathermap.org/)\n",
        "OPENWEATHER_API_KEY = \"\"  # <-- Reemplaza aquí\n",
        "\n",
        "# API Key para Tipos de cambio (regístrate en https://www.exchangerate-api.com/)\n",
        "FX_API_KEY = \"\"\n",
        "\n",
        "# Nota: La API del BCRP no requiere API key para consultar las series."
      ],
      "metadata": {
        "id": "cGFGb2uhE-3B"
      },
      "execution_count": 44,
      "outputs": []
    },
    {
      "cell_type": "markdown",
      "source": [
        "# 2. Extracción de Datos Externos"
      ],
      "metadata": {
        "id": "5R2311BsFDbf"
      }
    },
    {
      "cell_type": "code",
      "source": [
        "def fetch_news_data():\n",
        "    # Inicializa el cliente de NewsAPI con la API Key\n",
        "    newsapi = NewsApiClient(api_key=NEWS_API_KEY)\n",
        "\n",
        "    # Define una búsqueda relacionada a temas económicos y de negocios\n",
        "    query = \"negocios OR economía OR inversión OR empresa OR finanzas\"\n",
        "\n",
        "    # Lista de dominios de medios peruanos (separados por comas)\n",
        "    dominios = \"elcomercio.pe,larepublica.pe,gestion.pe,peru21.pe,elpopular.pe\"\n",
        "\n",
        "    # Consulta a la API usando la lista de dominios específicos\n",
        "    response = newsapi.get_everything(\n",
        "        q=query,\n",
        "        language=\"es\",\n",
        "        domains=dominios\n",
        "    )\n",
        "    articles = response.get(\"articles\", [])\n",
        "\n",
        "    # Extrae la información relevante de cada artículo y la almacena en una lista\n",
        "    news_list = []\n",
        "    for art in articles:\n",
        "        news_list.append({\n",
        "            \"titulo\": art.get(\"title\"),\n",
        "            \"descripcion\": art.get(\"description\"),\n",
        "            \"fecha\": art.get(\"publishedAt\"),\n",
        "            \"fuente\": art.get(\"source\", {}).get(\"name\")\n",
        "        })\n",
        "\n",
        "    # Convierte la lista en un DataFrame (asegúrate de importar pandas como pd)\n",
        "    df = pd.DataFrame(news_list)\n",
        "\n",
        "    return df"
      ],
      "metadata": {
        "id": "zRbeKYRgooZX"
      },
      "execution_count": 10,
      "outputs": []
    },
    {
      "cell_type": "code",
      "source": [
        "## b) Temperatura en Perú por Ciudad usando OpenWeatherMap\n",
        "def fetch_temperature_data(city):\n",
        "    url = \"http://api.openweathermap.org/data/2.5/weather\"\n",
        "    params = {\n",
        "        \"q\": f\"{city},pe\",  # Ciudad en Perú\n",
        "        \"appid\": OPENWEATHER_API_KEY,\n",
        "        \"units\": \"metric\",  # Temperatura en Celsius\n",
        "        \"lang\": \"es\"\n",
        "    }\n",
        "    response = requests.get(url, params=params)\n",
        "    if response.status_code == 200:\n",
        "        data = response.json()\n",
        "        temp_data = {\n",
        "            \"ciudad\": city,\n",
        "            \"temperatura\": data.get(\"main\", {}).get(\"temp\"),\n",
        "            \"humedad\": data.get(\"main\", {}).get(\"humidity\"),\n",
        "            \"fecha\": datetime.utcfromtimestamp(data.get(\"dt\")).strftime(\"%Y-%m-%d %H:%M:%S\")\n",
        "        }\n",
        "        return temp_data\n",
        "    else:\n",
        "        print(f\"Error al obtener datos para {city}: {response.status_code}\")\n",
        "        return None"
      ],
      "metadata": {
        "id": "tk1deaKVFOEX"
      },
      "execution_count": 13,
      "outputs": []
    },
    {
      "cell_type": "code",
      "source": [
        "def get_pen_to_usd_rate():\n",
        "    \"\"\"\n",
        "    Obtiene el tipo de cambio de Soles peruanos (PEN) a Dólar estadounidense (USD)\n",
        "    usando la API de ExchangeRate-API.\n",
        "\n",
        "    La URL de consulta define PEN como la moneda base, por lo que la API retorna el valor de USD\n",
        "    en 'conversion_rates' como cuántos USD equivale 1 PEN.\n",
        "    Para obtener el tipo de cambio en términos de cuántos soles se requieren para 1 dólar (ej. 3.70),\n",
        "    se invierte ese valor.\n",
        "\n",
        "    Retorna:\n",
        "      - rate_inverted: el valor de 1 USD en PEN.\n",
        "      - update_time: la fecha/hora de la última actualización (en formato UTC).\n",
        "    \"\"\"\n",
        "    url = f\"https://v6.exchangerate-api.com/v6/{FX_API_KEY}/latest/PEN\"\n",
        "\n",
        "    try:\n",
        "        response = requests.get(url, timeout=10)\n",
        "        response.raise_for_status()\n",
        "        data = response.json()\n",
        "\n",
        "        # Verifica que el resultado de la API sea \"success\"\n",
        "        if data.get(\"result\") != \"success\":\n",
        "            print(\"Error en la respuesta de la API:\")\n",
        "            print(data)\n",
        "            return None, None\n",
        "\n",
        "        conversion_rates = data.get(\"conversion_rates\", {})\n",
        "        rate_usd = conversion_rates.get(\"USD\")\n",
        "        update_time = data.get(\"time_last_update_utc\")\n",
        "\n",
        "        if rate_usd is None or rate_usd == 0:\n",
        "            print(\"No se obtuvo una tasa válida.\")\n",
        "            return None, None\n",
        "\n",
        "        # Invierte la tasa para obtener cuántos PEN se requieren por 1 USD.\n",
        "        rate_pen_per_usd = 1 / rate_usd\n",
        "        return rate_pen_per_usd, update_time\n",
        "\n",
        "    except requests.RequestException as e:\n",
        "        print(f\"Error al obtener los datos: {e}\")\n",
        "        return None, None"
      ],
      "metadata": {
        "id": "UxWiV6yS_BTo"
      },
      "execution_count": 56,
      "outputs": []
    },
    {
      "cell_type": "code",
      "source": [
        "## Extraer noticias\n",
        "df_news = fetch_news_data()\n",
        "\n",
        "## Extraer Temperaturas\n",
        "# Lista de las capitales de los departamentos de Perú\n",
        "capitales = [\n",
        "    \"Chachapoyas\", \"Huaraz\", \"Abancay\", \"Arequipa\", \"Ayacucho\", \"Cajamarca\", \"Callao\",\n",
        "    \"Cusco\", \"Huancavelica\", \"Huánuco\", \"Ica\", \"Huancayo\", \"Trujillo\", \"Chiclayo\",\n",
        "    \"Lima\", \"Iquitos\", \"Puerto Maldonado\", \"Moquegua\", \"Cerro de Pasco\", \"Piura\",\n",
        "    \"Puno\", \"Moyobamba\", \"Tacna\", \"Tumbes\", \"Pucallpa\"\n",
        "]\n",
        "\n",
        "temp_data_list = [fetch_temperature_data(capital) for capital in capitales]\n",
        "temp_data_list = [d for d in temp_data_list if d is not None]\n",
        "df_temp = pd.DataFrame(temp_data_list)\n",
        "\n",
        "## Extraer tipo de cambio\n",
        "rate, update_time = get_pen_to_usd_rate()\n",
        "\n",
        "df_exchange = pd.DataFrame({\"fecha\": [update_time], \"tipo_cambio\": [rate]})"
      ],
      "metadata": {
        "id": "LbQssaz2-oo3"
      },
      "execution_count": 65,
      "outputs": []
    },
    {
      "cell_type": "code",
      "source": [
        "df_exchange.columns"
      ],
      "metadata": {
        "colab": {
          "base_uri": "https://localhost:8080/"
        },
        "id": "f86WleFVNYe1",
        "outputId": "92f188df-c664-4d19-d56e-56d0f596a9dd"
      },
      "execution_count": 74,
      "outputs": [
        {
          "output_type": "execute_result",
          "data": {
            "text/plain": [
              "Index(['fecha', 'tipo_cambio'], dtype='object')"
            ]
          },
          "metadata": {},
          "execution_count": 74
        }
      ]
    },
    {
      "cell_type": "markdown",
      "source": [
        "# 3. Aplicación de Reglas de Calidad de Datos (Reglas Básicas)"
      ],
      "metadata": {
        "id": "tN8IP3SBFcyY"
      }
    },
    {
      "cell_type": "code",
      "source": [
        "def check_news_technical(df_news):\n",
        "    issues = []\n",
        "    # Completitud: se requiere que existan todas las columnas esenciales.\n",
        "    required_columns = ['titulo', 'descripcion', 'fecha', 'fuente']\n",
        "    for col in required_columns:\n",
        "        if col not in df_news.columns:\n",
        "            issues.append(f\"Falta la columna '{col}'.\")\n",
        "\n",
        "    # Comprobación de valores nulos\n",
        "    for col in required_columns:\n",
        "        if col in df_news.columns and df_news[col].isnull().any():\n",
        "            issues.append(f\"Existen valores nulos en la columna '{col}'.\")\n",
        "\n",
        "    # Duplicados: suponemos que 'titulo' y 'fecha' deben ser únicos\n",
        "    dup_count = df_news.duplicated(subset=['titulo', 'fecha']).sum()\n",
        "    if dup_count > 0:\n",
        "        issues.append(f\"Se encontraron {dup_count} filas duplicadas (basadas en 'titulo' y 'fecha').\")\n",
        "\n",
        "    return issues\n",
        "\n",
        "def check_temp_technical(df_temp):\n",
        "    issues = []\n",
        "    required_columns = ['ciudad', 'temperatura', 'humedad', 'fecha']\n",
        "    for col in required_columns:\n",
        "        if col not in df_temp.columns:\n",
        "            issues.append(f\"Falta la columna '{col}'.\")\n",
        "\n",
        "    for col in required_columns:\n",
        "        if col in df_temp.columns and df_temp[col].isnull().any():\n",
        "            issues.append(f\"Existen valores nulos en la columna '{col}'.\")\n",
        "\n",
        "    # Duplicados: por ejemplo, una misma medición por región y fecha\n",
        "    dup_count = df_temp.duplicated(subset=['ciudad', 'fecha']).sum()\n",
        "    if dup_count > 0:\n",
        "        issues.append(f\"Se encontraron {dup_count} filas duplicadas (basadas en 'ciudad' y 'fecha').\")\n",
        "\n",
        "    return issues\n",
        "\n",
        "def check_exchange_technical(df_exchange):\n",
        "    issues = []\n",
        "    required_columns = ['fecha', 'tipo_cambio']\n",
        "    for col in required_columns:\n",
        "        if col not in df_exchange.columns:\n",
        "            issues.append(f\"Falta la columna '{col}'.\")\n",
        "\n",
        "    for col in required_columns:\n",
        "        if col in df_exchange.columns and df_exchange[col].isnull().any():\n",
        "            issues.append(f\"Existen valores nulos en la columna '{col}'.\")\n",
        "\n",
        "    # Verificar duplicados en la fecha (suponemos que cada día debe aparecer solo una vez)\n",
        "    dup_count = df_exchange.duplicated(subset=['fecha']).sum()\n",
        "    if dup_count > 0:\n",
        "        issues.append(f\"Se encontraron {dup_count} filas duplicadas en la columna 'fecha'.\")\n",
        "\n",
        "    return issues"
      ],
      "metadata": {
        "id": "TqXcJuSphKQZ"
      },
      "execution_count": 69,
      "outputs": []
    },
    {
      "cell_type": "markdown",
      "source": [
        "# 4. Aplicación de Reglas de Calidad de Datos (Reglas de Negocio)"
      ],
      "metadata": {
        "id": "mxsn_k8VMlrP"
      }
    },
    {
      "cell_type": "code",
      "source": [
        "def check_news_business(df_news):\n",
        "    issues = []\n",
        "    # Palabras clave que deben aparecer en noticias relevantes\n",
        "    business_keywords = ['negocio', 'economía', 'inversión', 'empresa', 'finanza']\n",
        "\n",
        "    # Se usa la función str.contains para verificar la presencia de alguna palabra clave (case insensitive)\n",
        "    mask = (df_news['titulo'].str.lower().str.contains('|'.join(business_keywords), na=False) |\n",
        "            df_news['descripcion'].str.lower().str.contains('|'.join(business_keywords), na=False))\n",
        "\n",
        "    # Consideramos como problema aquellos artículos que no cumplan con la condición\n",
        "    invalid_news = df_news[~mask]\n",
        "    if not invalid_news.empty:\n",
        "        issues.append(f\"{len(invalid_news)} artículos no parecen estar relacionados a negocios/inversiones.\")\n",
        "    return issues\n",
        "\n",
        "def check_temp_business(df_temp):\n",
        "    issues = []\n",
        "    # Definir un rango realista para las temperaturas en Perú.\n",
        "    # Este rango puede ajustarse, por ejemplo, entre -10 y 40 grados Celsius.\n",
        "    invalid_temps = df_temp[(df_temp['temperatura'] < -10) | (df_temp['temperatura'] > 40)]\n",
        "    if not invalid_temps.empty:\n",
        "        issues.append(\"Se encontraron temperaturas fuera del rango esperado (−10 a 40 °C): \" +\n",
        "                      str(invalid_temps[['ciudad', 'temperatura', 'fecha']].to_dict(orient='records')))\n",
        "    return issues\n",
        "\n",
        "def check_exchange_business(df_exchange):\n",
        "    issues = []\n",
        "    # Regla de negocio: Se espera que el tipo de cambio (1 USD en PEN) esté entre 3.60 y 3.80.\n",
        "    outliers = df_exchange[(df_exchange['tipo_cambio'] < 3.60) | (df_exchange['tipo_cambio'] > 3.80)]\n",
        "    if not outliers.empty:\n",
        "        issues.append(\"Existen valores del tipo de cambio fuera del rango esperado (3.60 - 3.80 PEN por USD): \" +\n",
        "                      str(outliers[['fecha', 'tipo_cambio']].to_dict(orient='records')))\n",
        "\n",
        "    # Otra posible regla: variaciones diarias excesivas, por ejemplo, cambios mayores al 5% respecto al día anterior.\n",
        "    df_exchange_sorted = df_exchange.sort_values(\"fecha\")\n",
        "    df_exchange_sorted['prev_rate'] = df_exchange_sorted['tipo_cambio'].shift(1)\n",
        "    df_exchange_sorted['variation'] = ((df_exchange_sorted['tipo_cambio'] - df_exchange_sorted['prev_rate']) /\n",
        "                                       df_exchange_sorted['prev_rate']).abs() * 100\n",
        "    abrupt_changes = df_exchange_sorted[df_exchange_sorted['variation'] > 5]\n",
        "    if not abrupt_changes.empty:\n",
        "        issues.append(\"Se detectaron variaciones diarias superiores al 5%: \" +\n",
        "                      str(abrupt_changes[['fecha', 'tipo_cambio', 'variation']].to_dict(orient='records')))\n",
        "    return issues"
      ],
      "metadata": {
        "id": "mCCrr8qGMpaq"
      },
      "execution_count": 70,
      "outputs": []
    },
    {
      "cell_type": "markdown",
      "source": [
        "# 4. Resumen de KPIs de Calidad de Datos"
      ],
      "metadata": {
        "id": "wAcTvvPyFhnv"
      }
    },
    {
      "cell_type": "code",
      "source": [
        "def run_data_quality_checks(df_news, df_temp, df_exchange):\n",
        "    report = {\n",
        "        'Noticias': {\n",
        "            'reglas_basicas': check_news_technical(df_news),\n",
        "            'reglas_de_negocio': check_news_business(df_news)\n",
        "        },\n",
        "        'Temperatura': {\n",
        "            'reglas_basicas': check_temp_technical(df_temp),\n",
        "            'reglas_de_negocio': check_temp_business(df_temp)\n",
        "        },\n",
        "        'Tipo de cambio': {\n",
        "            'reglas_basicas': check_exchange_technical(df_exchange),\n",
        "            'reglas_de_negocio': check_exchange_business(df_exchange)\n",
        "        }\n",
        "    }\n",
        "    return report\n",
        "\n",
        "# ----- Supongamos que ya tienes tus dataframes df_news, df_temp y df_exchange -----\n",
        "# Por ejemplo, pueden haber sido cargados con:\n",
        "# df_news = pd.read_csv(\"news_data.csv\")\n",
        "# df_temp = pd.read_csv(\"temp_data.csv\")\n",
        "# df_exchange = pd.read_csv(\"exchange_data.csv\")\n",
        "\n",
        "# Aquí se simula llamando a la función de validación (recuerda adaptar según tus datos reales):\n",
        "report = run_data_quality_checks(df_news, df_temp, df_exchange)\n",
        "\n",
        "# ----- Generar y mostrar el reporte en el formato solicitado -----\n",
        "print(\"\\nReporte de Calidad de Datos\\n\")\n",
        "print(\"1. Reglas básicas\")\n",
        "# Noticias\n",
        "if not report['Noticias']['reglas_basicas']:\n",
        "    print(\"   - Noticias: Cumple con las reglas técnicas.\")\n",
        "else:\n",
        "    print(\"   - Noticias: No cumple con las reglas técnicas:\")\n",
        "    for issue in report['Noticias']['reglas_basicas']:\n",
        "        print(\"       *\", issue)\n",
        "# Temperatura\n",
        "if not report['Temperatura']['reglas_basicas']:\n",
        "    print(\"   - Temperatura: Cumple con las reglas técnicas.\")\n",
        "else:\n",
        "    print(\"   - Temperatura: No cumple con las reglas técnicas:\")\n",
        "    for issue in report['Temperatura']['reglas_basicas']:\n",
        "        print(\"       *\", issue)\n",
        "# Tipo de cambio\n",
        "if not report['Tipo de cambio']['reglas_basicas']:\n",
        "    print(\"   - Tipo de cambio: Cumple con las reglas técnicas.\")\n",
        "else:\n",
        "    print(\"   - Tipo de cambio: No cumple con las reglas técnicas:\")\n",
        "    for issue in report['Tipo de cambio']['reglas_basicas']:\n",
        "        print(\"       *\", issue)\n",
        "\n",
        "print(\"\\n2. Reglas de negocio\")\n",
        "# Noticias\n",
        "if not report['Noticias']['reglas_de_negocio']:\n",
        "    print(\"   - Noticias: Cumple con las reglas de negocio.\")\n",
        "else:\n",
        "    print(\"   - Noticias: \" + str(report['Noticias']['reglas_de_negocio'][0]))\n",
        "# Temperatura\n",
        "if not report['Temperatura']['reglas_de_negocio']:\n",
        "    print(\"   - Temperatura: Cumple con las reglas de negocio.\")\n",
        "else:\n",
        "    print(\"   - Temperatura: \" + str(report['Temperatura']['reglas_de_negocio'][0]))\n",
        "# Tipo de cambio\n",
        "if not report['Tipo de cambio']['reglas_de_negocio']:\n",
        "    print(\"   - Tipo de cambio: Cumple con las reglas de negocio.\")\n",
        "else:\n",
        "    issues_tc = report['Tipo de cambio']['reglas_de_negocio']\n",
        "    print(\"   - Tipo de cambio:\")\n",
        "    for issue in issues_tc:\n",
        "        print(\"       *\", issue)\n",
        "\n",
        "# Para mayor detalle, puedes optar por imprimir el diccionario completo de reporte:\n",
        "#print(\"\\nReporte completo:\")\n",
        "#pprint.pprint(report)"
      ],
      "metadata": {
        "id": "ObGPQgLiFmg3",
        "colab": {
          "base_uri": "https://localhost:8080/"
        },
        "outputId": "6f4a5a44-9224-4e04-b1c0-5b7e43ef617f"
      },
      "execution_count": 75,
      "outputs": [
        {
          "output_type": "stream",
          "name": "stdout",
          "text": [
            "\n",
            "Reporte de Calidad de Datos\n",
            "\n",
            "1. Reglas básicas\n",
            "   - Noticias: Cumple con las reglas técnicas.\n",
            "   - Temperatura: Cumple con las reglas técnicas.\n",
            "   - Tipo de cambio: Cumple con las reglas técnicas.\n",
            "\n",
            "2. Reglas de negocio\n",
            "   - Noticias: 34 artículos no parecen estar relacionados a negocios/inversiones.\n",
            "   - Temperatura: Cumple con las reglas de negocio.\n",
            "   - Tipo de cambio: Cumple con las reglas de negocio.\n"
          ]
        }
      ]
    }
  ]
}